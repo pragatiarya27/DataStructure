{
  "nbformat": 4,
  "nbformat_minor": 0,
  "metadata": {
    "colab": {
      "provenance": []
    },
    "kernelspec": {
      "name": "python3",
      "display_name": "Python 3"
    },
    "language_info": {
      "name": "python"
    }
  },
  "cells": [
    {
      "cell_type": "markdown",
      "source": [
        "# What are data structures, and why are they important?\n",
        "- It is use to organizing and storing data in computer to allow for efficient access and modification.\n",
        "# Explain the difference between mutable and immutable data types with examples?\n",
        "- Mutable-Mutable referred to data type which can be modify or changeable.The changes can be deleted,added,modify.For Example:-List.\n",
        "- Immutable-Mutable referred to data type which cannot be modify or changeable.For Example:-Tuple.\n",
        "# What are the main differences between lists and tuples in Python?\n",
        "- Lists is mutable datatype which can be changeable or modify.This means after the list is created,its elements can be modified,added,or removed.\n",
        "- Tuple is immuable datatype which cannot be changeable or modify.This means after the tuple is created,its elements cannot be modified,added,or removed.\n",
        "# Describe how dictionaries store data?\n",
        "- Dictionaries store data in the form of key and values.The keys can be unchangeable but the values is changeable.For Example:-{Key:value,key:value,---}\n",
        "# Why might you use a set instead of a list in Python?\n",
        "- Use a set when you need unique elements and fast membership checks (O(1)), unlike lists which allow duplicates and are slower (O(n)).Sets also support handy operations like union, intersection, and difference.\n",
        "# What is a string in Python, and how is it different from a list?\n",
        "- String is written inside the quotes(\"HELLO\").Strig is immutable only stores character.On the other hand,List is mutuble which can store mixed data type.\n",
        "# How do tuples ensure data integrity in Python?\n",
        "- tuples ensure data integrity in Python because once it is created,its elements cannot be modified,added,or removed.\n",
        "#What is a hash table, and how does it relate to dictionaries in Python?\n",
        "- Hash Table is use the store data in key-value pairs.It use to map the value with the index to acess it fast.\n",
        "- Dictionaries is implement using hash table because it can delete,insert,lookup very fast on average.\n",
        "# Can lists contain different data types in Python?\n",
        "- Yes,it can contain different data type.\n",
        " for example= mixed_list = [10, \"hello\", 3.14, True]\n",
        "print(mixed_list)\n",
        "\n",
        "\n"
      ],
      "metadata": {
        "id": "iERsyNowT8gG"
      }
    },
    {
      "cell_type": "code",
      "source": [],
      "metadata": {
        "id": "dIIFJKp9ozJ9"
      },
      "execution_count": 127,
      "outputs": []
    },
    {
      "cell_type": "code",
      "source": [
        "#  for example=\n",
        "mixed_list = [10, \"hello\", 3.14, True]\n",
        "print(mixed_list)"
      ],
      "metadata": {
        "colab": {
          "base_uri": "https://localhost:8080/"
        },
        "id": "oi9m-8w5cjVg",
        "outputId": "ace21d51-f29d-4ac0-d981-e59dfdc336a1"
      },
      "execution_count": 128,
      "outputs": [
        {
          "output_type": "stream",
          "name": "stdout",
          "text": [
            "[10, 'hello', 3.14, True]\n"
          ]
        }
      ]
    },
    {
      "cell_type": "markdown",
      "source": [
        "# Explain why strings are immutable in Python\n",
        "- String are immutable to ensure consistency,efficiency.Onces the string is created,its content doesn't change,only new string ca be formed.\n",
        "# What advantages do dictionaries offer over lists for certain tasks.\n",
        "- Dictionaries allow fast lookups,Insertion,deletion using keys,unlike this list using linear search.\n",
        "- Dictionaries also alllows key-value mapping,making data more structure and readable than relying on list indexes.\n",
        "# Describe a scenario where using a tuple would be preferable over a list.\n",
        "- Tuple would be preferable when you want to store fixed and unchangeable data.\n",
        "# How do sets handle duplicate values in Python?\n",
        "- Set automatically remove the duplicate value.\n",
        "- When you want to added the value in the set it automatically give you the unique value and ignores duplicate or repeated values.\n",
        "# How does the “in” keyword work differently for lists and dictionaries?\n",
        "- The \"in\" keyword work differently for lists and dictionaries.\n",
        "-\"In\" in list:It help to check if the value(the values which we are finding) is there in the list.\n",
        "\"In\" in Dictionary:It help to check if the key(the key which we are finding) is there in the Dict.\n"
      ],
      "metadata": {
        "id": "cVcceKKncpdR"
      }
    },
    {
      "cell_type": "code",
      "source": [
        "my_list = [1, 2, 3]\n",
        "1 in my_list\n",
        "\n",
        "my_dict = {'a': 10, 'b': 20}\n",
        "'a' in my_dict"
      ],
      "metadata": {
        "colab": {
          "base_uri": "https://localhost:8080/"
        },
        "id": "-N7GYR9Giv_R",
        "outputId": "d91d0795-6d08-4f9f-e0fb-e3d2e44cc4be"
      },
      "execution_count": 129,
      "outputs": [
        {
          "output_type": "execute_result",
          "data": {
            "text/plain": [
              "True"
            ]
          },
          "metadata": {},
          "execution_count": 129
        }
      ]
    },
    {
      "cell_type": "markdown",
      "source": [
        "# Can you modify the elements of a tuple? Explain why or why not?\n",
        "-No, you cannot modify the elements of a tuple because tuples are immutable in Python.Once a tuple is created, its size and contents are fixed, which ensures data integrity and allows tuples to be used safely as dictionary keys or in sets.\n",
        "# What is a nested dictionary, and give an example of its use case?\n",
        "Nested Dictionary refer to which contain another dictionary as its values.\n"
      ],
      "metadata": {
        "id": "sBNrG1vui6s5"
      }
    },
    {
      "cell_type": "code",
      "source": [
        "student={\n",
        "\"student1\":{\"name\":\"bob\",\"grade\":\"1\"},\n",
        "\"student2\":{\"name\":\"bobby\",\"grade\":\"B\"}\n",
        " }\n",
        "print(student[\"student1\"][\"grade\"])\n",
        "\n"
      ],
      "metadata": {
        "colab": {
          "base_uri": "https://localhost:8080/"
        },
        "id": "ttyLp8gDjyle",
        "outputId": "554a2c15-fa72-4589-c345-dc69a9ad72f5"
      },
      "execution_count": 130,
      "outputs": [
        {
          "output_type": "stream",
          "name": "stdout",
          "text": [
            "1\n"
          ]
        }
      ]
    },
    {
      "cell_type": "markdown",
      "source": [
        "# Describe the time complexity of accessing elements in a dictionary\n",
        "- Accessing elements in a Python dictionary has an average time complexity of   O(1) because dictionaries are implemented using hash tables.\n",
        "# In what situations are lists preferred over dictionaries?\n",
        "- lists preferred over dictionaries when you need ordered collection,allow duplicates,or want to access element by index.\n",
        "# Why are dictionaries considered unordered, and how does that affect data retrieval\n",
        "- because they did not maintain the order in which items were added.\n",
        "- They donot rely of the order of key and values when iterating,you can access items by key rather then by position.\n",
        "# Explain the difference between a list and a dictionary in terms of data retrieval\n",
        "- list:access the element by the index.Retrieval is O(1) for known index or for searching value is O(n).\n",
        "- Dictionary:access the element by the Key.Retrieval is O(1) for average. much faster for lookups than seraching in the list.\n",
        "\n"
      ],
      "metadata": {
        "id": "yox2L3_kk9wH"
      }
    },
    {
      "cell_type": "code",
      "source": [
        "#Write a code to create a string with your name and print it?\n",
        "string=\"Prgati Arya\"\n",
        "print(string)"
      ],
      "metadata": {
        "colab": {
          "base_uri": "https://localhost:8080/"
        },
        "id": "VVRg8qZbo2zz",
        "outputId": "8bd254f4-45e2-444c-d3da-1ce5a24f6507"
      },
      "execution_count": 131,
      "outputs": [
        {
          "output_type": "stream",
          "name": "stdout",
          "text": [
            "Prgati Arya\n"
          ]
        }
      ]
    },
    {
      "cell_type": "code",
      "source": [
        "#Write a code to find the length of the string \"Hello World\"\n",
        "str=\"Hello World\"\n",
        "print(len(str))"
      ],
      "metadata": {
        "colab": {
          "base_uri": "https://localhost:8080/"
        },
        "id": "toVfRGfOo3Ak",
        "outputId": "b5f8a97d-8fb3-4c2b-fff7-4815658cd63b"
      },
      "execution_count": 132,
      "outputs": [
        {
          "output_type": "stream",
          "name": "stdout",
          "text": [
            "11\n"
          ]
        }
      ]
    },
    {
      "cell_type": "code",
      "source": [
        "# Write a code to slice the first 3 characters from the string \"Python Programming\"\n",
        "a=\"Python Programming\"\n",
        "print(a[0:3])"
      ],
      "metadata": {
        "colab": {
          "base_uri": "https://localhost:8080/"
        },
        "id": "fEnRoh2Oo3Cy",
        "outputId": "aab29e59-9191-45bf-cb04-6009634ff558"
      },
      "execution_count": 133,
      "outputs": [
        {
          "output_type": "stream",
          "name": "stdout",
          "text": [
            "Pyt\n"
          ]
        }
      ]
    },
    {
      "cell_type": "code",
      "source": [
        "# Write a code to convert the string \"hello\" to uppercase\n",
        "str=\"hello\"\n",
        "name=str.upper()\n",
        "print(name)"
      ],
      "metadata": {
        "colab": {
          "base_uri": "https://localhost:8080/"
        },
        "id": "LgV3mCa8o3FQ",
        "outputId": "bac2a628-39a7-4d2e-b2f1-f05cc159a8fc"
      },
      "execution_count": 134,
      "outputs": [
        {
          "output_type": "stream",
          "name": "stdout",
          "text": [
            "HELLO\n"
          ]
        }
      ]
    },
    {
      "cell_type": "code",
      "source": [
        "#  Write a code to replace the word \"apple\" with \"orange\" in the string \"I like apple\"\n",
        "b=\"I like apple\"\n",
        "print(b.replace(\"apple\",\"orange\"))"
      ],
      "metadata": {
        "colab": {
          "base_uri": "https://localhost:8080/"
        },
        "id": "odC07Stio3Ha",
        "outputId": "0d054fa1-25ae-46a9-c633-dd1b04340469"
      },
      "execution_count": 135,
      "outputs": [
        {
          "output_type": "stream",
          "name": "stdout",
          "text": [
            "I like orange\n"
          ]
        }
      ]
    },
    {
      "cell_type": "code",
      "source": [
        "# Write a code to create a list with numbers 1 to 5 and print it\n",
        "list=[1,2,3,4,5]\n",
        "print(list)"
      ],
      "metadata": {
        "colab": {
          "base_uri": "https://localhost:8080/"
        },
        "id": "1G-Q-pLEo3Je",
        "outputId": "46e9d8a4-3137-456f-d9cb-40ca6f656442"
      },
      "execution_count": 136,
      "outputs": [
        {
          "output_type": "stream",
          "name": "stdout",
          "text": [
            "[1, 2, 3, 4, 5]\n"
          ]
        }
      ]
    },
    {
      "cell_type": "code",
      "source": [
        "# 'P Write a code to append the number 10 to the list [1, 2, 3, 4]\n",
        "list=[1, 2, 3, 4]\n",
        "list.append(10)\n",
        "print(list)"
      ],
      "metadata": {
        "colab": {
          "base_uri": "https://localhost:8080/"
        },
        "id": "UncxjiOKo3ML",
        "outputId": "ee59d243-d807-4f2b-de27-9f5dc5ff70dd"
      },
      "execution_count": 137,
      "outputs": [
        {
          "output_type": "stream",
          "name": "stdout",
          "text": [
            "[1, 2, 3, 4, 10]\n"
          ]
        }
      ]
    },
    {
      "cell_type": "code",
      "source": [
        "# Write a code to remove the number 3 from the list [1, 2, 3, 4, 5]\n",
        "list=[1, 2, 3, 4, 5]\n",
        "list.remove(3)\n",
        "list"
      ],
      "metadata": {
        "colab": {
          "base_uri": "https://localhost:8080/"
        },
        "id": "RMctIPnEo3OO",
        "outputId": "5a246b00-8571-4849-de02-72bfb555fe54"
      },
      "execution_count": 138,
      "outputs": [
        {
          "output_type": "execute_result",
          "data": {
            "text/plain": [
              "[1, 2, 4, 5]"
            ]
          },
          "metadata": {},
          "execution_count": 138
        }
      ]
    },
    {
      "cell_type": "code",
      "source": [
        "# Write a code to access the second element in the list ['a', 'b', 'c', 'd']\n",
        "list=['a', 'b', 'c', 'd']\n",
        "my_list=list[1]\n",
        "my_list"
      ],
      "metadata": {
        "colab": {
          "base_uri": "https://localhost:8080/",
          "height": 36
        },
        "id": "fSfK8mZvo3Rq",
        "outputId": "59628af6-c7af-4e77-f147-44c0221edd5e"
      },
      "execution_count": 139,
      "outputs": [
        {
          "output_type": "execute_result",
          "data": {
            "text/plain": [
              "'b'"
            ],
            "application/vnd.google.colaboratory.intrinsic+json": {
              "type": "string"
            }
          },
          "metadata": {},
          "execution_count": 139
        }
      ]
    },
    {
      "cell_type": "code",
      "source": [
        "# Write a code to reverse the list [10, 20, 30, 40, 50].\n",
        "list=[10, 20, 30, 40, 50]\n",
        "list1=list[::-1]\n",
        "list1"
      ],
      "metadata": {
        "colab": {
          "base_uri": "https://localhost:8080/"
        },
        "id": "N9ijsawJrO9l",
        "outputId": "116fe36f-787a-4017-b3f6-bd03c6c61865"
      },
      "execution_count": 140,
      "outputs": [
        {
          "output_type": "execute_result",
          "data": {
            "text/plain": [
              "[50, 40, 30, 20, 10]"
            ]
          },
          "metadata": {},
          "execution_count": 140
        }
      ]
    },
    {
      "cell_type": "code",
      "source": [
        "# 11. Write a code to create a tuple with the elements 100, 200, 300 and print it.\n",
        "tuple=(100, 200, 300)\n",
        "print(tuple)\n"
      ],
      "metadata": {
        "colab": {
          "base_uri": "https://localhost:8080/"
        },
        "id": "IYq0oe-OsYpM",
        "outputId": "09462f92-007c-4b64-d581-877f3f3592c2"
      },
      "execution_count": 141,
      "outputs": [
        {
          "output_type": "stream",
          "name": "stdout",
          "text": [
            "(100, 200, 300)\n"
          ]
        }
      ]
    },
    {
      "cell_type": "code",
      "source": [
        "# Write a code to access the second-to-last element of the tuple ('red', 'green', 'blue', 'yellow').\n",
        "tuple=('red', 'green', 'blue', 'yellow')\n",
        "print(tuple[-2])"
      ],
      "metadata": {
        "colab": {
          "base_uri": "https://localhost:8080/"
        },
        "id": "ltYcCV5ssYr1",
        "outputId": "972415a8-acc9-4973-ee29-c37c017cfbc9"
      },
      "execution_count": 142,
      "outputs": [
        {
          "output_type": "stream",
          "name": "stdout",
          "text": [
            "blue\n"
          ]
        }
      ]
    },
    {
      "cell_type": "code",
      "source": [
        "# Write a code to find the minimum number in the tuple (10, 20, 5, 15).\n",
        "tuple=(10, 20, 5, 15)\n",
        "print(min(tuple))"
      ],
      "metadata": {
        "colab": {
          "base_uri": "https://localhost:8080/"
        },
        "id": "HpudSqM3sYvU",
        "outputId": "1a7b01ad-537f-446b-babc-ba450db1f76d"
      },
      "execution_count": 143,
      "outputs": [
        {
          "output_type": "stream",
          "name": "stdout",
          "text": [
            "5\n"
          ]
        }
      ]
    },
    {
      "cell_type": "code",
      "source": [
        "# Write a code to find the index of the element \"cat\" in the tuple ('dog', 'cat', 'rabbit').\n",
        "tuple=('dog', 'cat', 'rabbit')\n",
        "print(tuple.index('cat'))"
      ],
      "metadata": {
        "colab": {
          "base_uri": "https://localhost:8080/"
        },
        "id": "Vatlgg5-tERU",
        "outputId": "c0cd1d61-fde8-4af0-a773-d048c52af190"
      },
      "execution_count": 144,
      "outputs": [
        {
          "output_type": "stream",
          "name": "stdout",
          "text": [
            "1\n"
          ]
        }
      ]
    },
    {
      "cell_type": "code",
      "source": [
        "# Write a code to create a tuple containing three different fruits and check if \"kiwi\" is in it.\n",
        "fruits=(\"Apple\",\"Banana\",\"Lichi\")\n",
        "print(\"kiwi\" in fruits)"
      ],
      "metadata": {
        "colab": {
          "base_uri": "https://localhost:8080/"
        },
        "id": "vIw9JQOrtEwB",
        "outputId": "5880d08a-93c6-4ef7-b370-1791e2664ac0"
      },
      "execution_count": 145,
      "outputs": [
        {
          "output_type": "stream",
          "name": "stdout",
          "text": [
            "False\n"
          ]
        }
      ]
    },
    {
      "cell_type": "code",
      "source": [
        "fruits=(\"kiwi\",\"Banana\",\"Lichi\")\n",
        "print(\"kiwi\" in fruits)"
      ],
      "metadata": {
        "colab": {
          "base_uri": "https://localhost:8080/"
        },
        "id": "5C92H6UFtEyq",
        "outputId": "0292ec58-aef4-4572-d3a8-1ced83a217ce"
      },
      "execution_count": 146,
      "outputs": [
        {
          "output_type": "stream",
          "name": "stdout",
          "text": [
            "True\n"
          ]
        }
      ]
    },
    {
      "cell_type": "code",
      "source": [
        "# Write a code to create a set with the elements 'a', 'b', 'c' and print it.\n",
        "set={'a','b','c'}\n",
        "print(set)\n"
      ],
      "metadata": {
        "colab": {
          "base_uri": "https://localhost:8080/"
        },
        "id": "J9XNilrPtE0r",
        "outputId": "9bf14576-473b-4fdc-94ca-9c3a4546796e"
      },
      "execution_count": 147,
      "outputs": [
        {
          "output_type": "stream",
          "name": "stdout",
          "text": [
            "{'a', 'c', 'b'}\n"
          ]
        }
      ]
    },
    {
      "cell_type": "code",
      "source": [
        "# Write a code to clear all elements from the set {1, 2, 3, 4, 5}.\n",
        "set={1, 2, 3, 4, 5}\n",
        "set.clear()\n",
        "print(set)"
      ],
      "metadata": {
        "colab": {
          "base_uri": "https://localhost:8080/"
        },
        "id": "Xz95HmngtE3z",
        "outputId": "3f8e26c0-9d85-48ca-80aa-b90bc2b9f561"
      },
      "execution_count": 148,
      "outputs": [
        {
          "output_type": "stream",
          "name": "stdout",
          "text": [
            "set()\n"
          ]
        }
      ]
    },
    {
      "cell_type": "code",
      "source": [
        "# Write a code to remove the element 4 from the set {1, 2, 3, 4}.\n",
        "set={1, 2, 3, 4}\n",
        "set.remove(4)\n",
        "set"
      ],
      "metadata": {
        "colab": {
          "base_uri": "https://localhost:8080/"
        },
        "id": "qFzplWGXuxu2",
        "outputId": "864e5202-9236-4e8c-f7cb-4be755b242d9"
      },
      "execution_count": 149,
      "outputs": [
        {
          "output_type": "execute_result",
          "data": {
            "text/plain": [
              "{1, 2, 3}"
            ]
          },
          "metadata": {},
          "execution_count": 149
        }
      ]
    },
    {
      "cell_type": "code",
      "source": [
        "# Write a code to find the union of two sets {1, 2, 3} and {3, 4, 5}\n",
        "set1={1, 2, 3}\n",
        "set2={3, 4, 5}\n",
        "print(\"Union of set and set2:\",set1.union(set2))\n"
      ],
      "metadata": {
        "colab": {
          "base_uri": "https://localhost:8080/"
        },
        "id": "JXSBItI9u5qS",
        "outputId": "d7e95a9e-ec71-4aef-9019-b28874d91f32"
      },
      "execution_count": 150,
      "outputs": [
        {
          "output_type": "stream",
          "name": "stdout",
          "text": [
            "Union of set and set2: {1, 2, 3, 4, 5}\n"
          ]
        }
      ]
    },
    {
      "cell_type": "code",
      "source": [
        "# Write a code to find the intersection of two sets {1, 2, 3} and {2, 3, 4}.\n",
        "set1={1, 2, 3}\n",
        "set2={2, 3, 4}\n",
        "print(\"The insterestion og set and set2:\",set1.intersection(set2))"
      ],
      "metadata": {
        "colab": {
          "base_uri": "https://localhost:8080/"
        },
        "id": "u3R1ScDsvht_",
        "outputId": "a708ac18-afc3-4f5e-a0ec-b097dc7d54bb"
      },
      "execution_count": 151,
      "outputs": [
        {
          "output_type": "stream",
          "name": "stdout",
          "text": [
            "The insterestion og set and set2: {2, 3}\n"
          ]
        }
      ]
    },
    {
      "cell_type": "code",
      "source": [
        "# Write a code to create a dictionary with the keys \"name\", \"age\", and \"city\", and print it.\n",
        "dict={\"name\":\"Pragati\",\"age\":20,\"city\":\"Rudrapur\"}\n",
        "print(dict)"
      ],
      "metadata": {
        "id": "8o4vF38Y8mTd"
      },
      "execution_count": null,
      "outputs": []
    },
    {
      "cell_type": "code",
      "source": [
        "# Write a code to add a new key-value pair \"country\": \"USA\" to the dictionary {'name': 'John', 'age': 25}.\n",
        " dict1={'name': 'John', 'age': 25}\n",
        " dict1[\"country\"]=\"USA\"\n",
        " print(dict1)"
      ],
      "metadata": {
        "id": "sa9nA6NZ8s9r"
      },
      "execution_count": null,
      "outputs": []
    },
    {
      "cell_type": "code",
      "source": [
        "# Write a code to access the value associated with the key \"name\" in the dictionary {'name': 'Alice', 'age': 30}\n",
        "dict1={'name': 'Alice', 'age': 30}\n",
        "print(dict1[\"name\"])\n"
      ],
      "metadata": {
        "colab": {
          "base_uri": "https://localhost:8080/"
        },
        "id": "tAXWxK3Vwjnj",
        "outputId": "ed8b0cbc-6f6c-4932-ad00-a18f576fc11d"
      },
      "execution_count": 162,
      "outputs": [
        {
          "output_type": "stream",
          "name": "stdout",
          "text": [
            "Alice\n"
          ]
        }
      ]
    },
    {
      "cell_type": "code",
      "source": [
        "# Write a code to remove the key \"age\" from the dictionary {'name': 'Bob', 'age': 22, 'city': 'New York'}.\n",
        "student_info={'name': 'Bob', 'age': 22, 'city': 'New York'}\n",
        "student=student_info.pop(\"age\")\n",
        "print(student_info)"
      ],
      "metadata": {
        "colab": {
          "base_uri": "https://localhost:8080/"
        },
        "id": "eb323aLDwjqR",
        "outputId": "122d9761-8c54-43e3-96ee-11027e632e5c"
      },
      "execution_count": 153,
      "outputs": [
        {
          "output_type": "stream",
          "name": "stdout",
          "text": [
            "{'name': 'Bob', 'city': 'New York'}\n"
          ]
        }
      ]
    },
    {
      "cell_type": "code",
      "source": [
        "# Write a code to check if the key \"city\" exists in the dictionary {'name': 'Alice', 'city': 'Paris'}.\n",
        "s={'name': 'Alice', 'city': 'Paris'}\n",
        "print(\"city\" in s)"
      ],
      "metadata": {
        "colab": {
          "base_uri": "https://localhost:8080/"
        },
        "id": "dpCbndCX_SXE",
        "outputId": "eefc2ab3-f49b-4d1c-f04c-eac555db6108"
      },
      "execution_count": 163,
      "outputs": [
        {
          "output_type": "stream",
          "name": "stdout",
          "text": [
            "True\n"
          ]
        }
      ]
    },
    {
      "cell_type": "code",
      "source": [
        "# Write a code to create a list, a tuple, and a dictionary, and print them all.\n",
        "my_list = [1, 2, 3, 4, 5]\n",
        "\n",
        "my_tuple = (10, 20, 30, 40, 50)\n",
        "\n",
        "my_dict = {\"name\": \"Alice\", \"age\": 25, \"city\": \"New York\"}\n",
        "\n",
        "print(\"my_list:\",my_list)\n",
        "print(\"my_tuple\",my_tuple)\n",
        "print(\"my_dict:\",my_dict)"
      ],
      "metadata": {
        "colab": {
          "base_uri": "https://localhost:8080/"
        },
        "id": "K0i1DGm5wjwY",
        "outputId": "d1093af9-8737-49e3-a43c-5635e7f31ab5"
      },
      "execution_count": 164,
      "outputs": [
        {
          "output_type": "stream",
          "name": "stdout",
          "text": [
            "my_list: [1, 2, 3, 4, 5]\n",
            "my_tuple (10, 20, 30, 40, 50)\n",
            "my_dict: {'name': 'Alice', 'age': 25, 'city': 'New York'}\n"
          ]
        }
      ]
    },
    {
      "cell_type": "code",
      "source": [
        "# Write a code to create a list of 5 random numbers between 1 and 100, sort it in ascending order, and print the\n",
        "# result.(replaced)\n",
        "import random\n",
        "random_numbers=[random.randint(1,100) for i in range(5)]\n",
        "random_numbers.sort()\n",
        "print(random_numbers)\n"
      ],
      "metadata": {
        "colab": {
          "base_uri": "https://localhost:8080/"
        },
        "id": "nE8-SZhp1R37",
        "outputId": "b05dade2-29dd-49a2-a65f-2f6eaf54ddad"
      },
      "execution_count": 156,
      "outputs": [
        {
          "output_type": "stream",
          "name": "stdout",
          "text": [
            "[13, 22, 33, 40, 92]\n"
          ]
        }
      ]
    },
    {
      "cell_type": "code",
      "source": [
        "#  Write a code to create a list with strings and print the element at the third index.\n",
        "\n",
        "list=[\"apple\",\"banana\",\"cherry\",\"mango\"]\n",
        "print(list[3])\n"
      ],
      "metadata": {
        "colab": {
          "base_uri": "https://localhost:8080/"
        },
        "id": "AXlCvYVM1R-q",
        "outputId": "408cfe21-f532-473c-8f99-58c8652b62eb"
      },
      "execution_count": 157,
      "outputs": [
        {
          "output_type": "stream",
          "name": "stdout",
          "text": [
            "mango\n"
          ]
        }
      ]
    },
    {
      "cell_type": "code",
      "source": [
        "\n",
        "# Write a code to combine two dictionaries into one and print the result.\n",
        "dict6 = {'a': 1, 'b': 2}\n",
        "dict7 = {'c': 3, 'd': 4}\n",
        "combined_dict={**dict6, **dict7}\n",
        "print(combined_dict)"
      ],
      "metadata": {
        "colab": {
          "base_uri": "https://localhost:8080/"
        },
        "id": "9IdLFTUA9HW9",
        "outputId": "a6750a8c-8436-40f7-a324-3ce51b26bc61"
      },
      "execution_count": 158,
      "outputs": [
        {
          "output_type": "stream",
          "name": "stdout",
          "text": [
            "{'a': 1, 'b': 2, 'c': 3, 'd': 4}\n"
          ]
        }
      ]
    },
    {
      "cell_type": "code",
      "source": [
        "#Write a code to convert a list of strings into a set.\n",
        "import builtins\n",
        "my_list=[\"apple\",\"banana\",\"cherry\",\"mango\"]\n",
        "my_set=builtins.set(my_list)\n",
        "print(my_set)"
      ],
      "metadata": {
        "colab": {
          "base_uri": "https://localhost:8080/"
        },
        "id": "kFbd4lnp95ER",
        "outputId": "40e0009a-2045-468b-8245-1c473b301ad2"
      },
      "execution_count": 161,
      "outputs": [
        {
          "output_type": "stream",
          "name": "stdout",
          "text": [
            "{'apple', 'mango', 'banana', 'cherry'}\n"
          ]
        }
      ]
    }
  ]
}